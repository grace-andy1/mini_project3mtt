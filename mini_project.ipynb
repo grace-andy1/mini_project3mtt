{
  "nbformat": 4,
  "nbformat_minor": 0,
  "metadata": {
    "colab": {
      "provenance": []
    },
    "kernelspec": {
      "name": "python3",
      "display_name": "Python 3"
    },
    "language_info": {
      "name": "python"
    }
  },
  "cells": [
    {
      "cell_type": "code",
      "source": [
        "class Task:\n",
        "    def __init__(self, task_name):\n",
        "        self.task_name = task_name\n",
        "        self.completed = False\n",
        "\n",
        "    def mark_completed(self):\n",
        "        self.completed = True\n",
        "\n",
        "    def __str__(self):\n",
        "        return f\"{self.task_name} - {'Completed' if self.completed else 'Not Completed'}\"\n",
        "\n",
        "\n",
        "class TodoList:\n",
        "    def __init__(self):\n",
        "        self.tasks = []\n",
        "\n",
        "    def add_task(self, task_name):\n",
        "        new_task = Task(task_name)\n",
        "        self.tasks.append(new_task)\n",
        "        print(f\"Task '{task_name}' added to the list.\")\n",
        "\n",
        "    def remove_task(self, task_name):\n",
        "        for task in self.tasks:\n",
        "            if task.task_name == task_name:\n",
        "                self.tasks.remove(task)\n",
        "                print(f\"Task '{task_name}' removed from the list.\")\n",
        "                return\n",
        "        print(f\"Task '{task_name}' not found in the list.\")\n",
        "\n",
        "    def list_tasks(self):\n",
        "        if not self.tasks:\n",
        "            print(\"Your to-do list is empty.\")\n",
        "            return\n",
        "        print(\"\\nYour To-Do List:\")\n",
        "        for idx, task in enumerate(self.tasks, 1):\n",
        "            print(f\"{idx}. {task}\")\n",
        "\n",
        "    def mark_task_completed(self, task_name):\n",
        "        for task in self.tasks:\n",
        "            if task.task_name == task_name:\n",
        "                task.mark_completed()\n",
        "                print(f\"Task '{task_name}' marked as completed.\")\n",
        "                return\n",
        "        print(f\"Task '{task_name}' not found in the list.\")\n",
        "\n",
        "\n",
        "def main():\n",
        "    todo_list = TodoList()\n",
        "\n",
        "    while True:\n",
        "        print(\"\\nTo-Do List Manager\")\n",
        "        print(\"1. Add Task\")\n",
        "        print(\"2. Remove Task\")\n",
        "        print(\"3. List Tasks\")\n",
        "        print(\"4. Mark Task as Completed\")\n",
        "        print(\"5. Exit\")\n",
        "\n",
        "        choice = input(\"Choose an option (1-5): \")\n",
        "\n",
        "        if choice == '1':\n",
        "            task_name = input(\"Enter task name: \")\n",
        "            todo_list.add_task(task_name)\n",
        "        elif choice == '2':\n",
        "            task_name = input(\"Enter task name to remove: \")\n",
        "            todo_list.remove_task(task_name)\n",
        "        elif choice == '3':\n",
        "            todo_list.list_tasks()\n",
        "        elif choice == '4':\n",
        "            task_name = input(\"Enter task name to mark as completed: \")\n",
        "            todo_list.mark_task_completed(task_name)\n",
        "        elif choice == '5':\n",
        "            print(\"Goodbye!\")\n",
        "            break\n",
        "        else:\n",
        "            print(\"Invalid option. Please try again.\")\n",
        "\n",
        "if __name__ == \"__main__\":\n",
        "    main()\n"
      ],
      "metadata": {
        "colab": {
          "base_uri": "https://localhost:8080/"
        },
        "id": "nCBkyrxCC-Gc",
        "outputId": "9cbde106-f39c-4e1a-d073-b0d2185ba50c"
      },
      "execution_count": 2,
      "outputs": [
        {
          "output_type": "stream",
          "name": "stdout",
          "text": [
            "\n",
            "To-Do List Manager\n",
            "1. Add Task\n",
            "2. Remove Task\n",
            "3. List Tasks\n",
            "4. Mark Task as Completed\n",
            "5. Exit\n",
            "Choose an option (1-5): 1\n",
            "Enter task name: Payment\n",
            "Task 'Payment' added to the list.\n",
            "\n",
            "To-Do List Manager\n",
            "1. Add Task\n",
            "2. Remove Task\n",
            "3. List Tasks\n",
            "4. Mark Task as Completed\n",
            "5. Exit\n",
            "Choose an option (1-5): 5\n",
            "Goodbye!\n"
          ]
        }
      ]
    }
  ]
}